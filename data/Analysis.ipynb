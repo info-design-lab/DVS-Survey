{
 "cells": [
  {
   "cell_type": "code",
   "execution_count": 1,
   "metadata": {},
   "outputs": [],
   "source": [
    "import csv\n",
    "import numpy as np\n",
    "from collections import Counter\n",
    "\n",
    "import numpy as np\n",
    "from matplotlib import pyplot as plt"
   ]
  },
  {
   "cell_type": "code",
   "execution_count": 2,
   "metadata": {},
   "outputs": [],
   "source": [
    "with open('cleaned_survey_results_2019.csv') as f:\n",
    "    data = [{k: v for k, v in row.items()}\n",
    "         for row in csv.DictReader(f, skipinitialspace=True)]"
   ]
  },
  {
   "cell_type": "code",
   "execution_count": 3,
   "metadata": {},
   "outputs": [],
   "source": [
    "def get_array(array, key):\n",
    "    l = []\n",
    "    for i in array:\n",
    "        l.append(i[key])\n",
    "    return l"
   ]
  },
  {
   "cell_type": "code",
   "execution_count": 4,
   "metadata": {},
   "outputs": [
    {
     "data": {
      "text/plain": [
       "Counter({'No': 1031, 'Yes': 284, 'Occasional': 32, '': 12})"
      ]
     },
     "execution_count": 4,
     "metadata": {},
     "output_type": "execute_result"
    }
   ],
   "source": [
    "Counter(get_array(data, \"Are you a freelancer/consultant?\"))"
   ]
  },
  {
   "cell_type": "code",
   "execution_count": 5,
   "metadata": {},
   "outputs": [
    {
     "data": {
      "text/plain": [
       "Counter({'$40k - $60k': 209,\n",
       "         'Less than $20,000': 127,\n",
       "         '$120k - $140k': 90,\n",
       "         '$100k - $120k': 128,\n",
       "         '$80k - $100k': 189,\n",
       "         '$20k - $40k': 166,\n",
       "         '$140k - $160k': 51,\n",
       "         '': 49,\n",
       "         '$200k+': 71,\n",
       "         '$60k - $80k': 233,\n",
       "         '$180k - $200k': 27,\n",
       "         '$160k - $180k': 19})"
      ]
     },
     "execution_count": 5,
     "metadata": {},
     "output_type": "execute_result"
    }
   ],
   "source": [
    "Counter(get_array(data, \"What is your yearly pay?\"))"
   ]
  },
  {
   "cell_type": "markdown",
   "metadata": {},
   "source": [
    "## Stacked Bar"
   ]
  },
  {
   "cell_type": "code",
   "execution_count": 6,
   "metadata": {},
   "outputs": [],
   "source": [
    "def parseMultipleSelection(value):\n",
    "    return value.split(\", \")\n",
    "\n",
    "def stacked_bar(data, series_labels, category_labels=None, \n",
    "                show_values=False, value_format=\"{}\", y_label=None, \n",
    "                grid=True, reverse=False):\n",
    "    \"\"\"Plots a stacked bar chart with the data and labels provided.\n",
    "\n",
    "    Keyword arguments:\n",
    "    data            -- 2-dimensional numpy array or nested list\n",
    "                       containing data for each series in rows\n",
    "    series_labels   -- list of series labels (these appear in\n",
    "                       the legend)\n",
    "    category_labels -- list of category labels (these appear\n",
    "                       on the x-axis)\n",
    "    show_values     -- If True then numeric value labels will \n",
    "                       be shown on each bar\n",
    "    value_format    -- Format string for numeric value labels\n",
    "                       (default is \"{}\")\n",
    "    y_label         -- Label for y-axis (str)\n",
    "    grid            -- If True display grid\n",
    "    reverse         -- If True reverse the order that the\n",
    "                       series are displayed (left-to-right\n",
    "                       or right-to-left)\n",
    "    \"\"\"\n",
    "\n",
    "    ny = len(data[0])\n",
    "    ind = list(range(ny))\n",
    "\n",
    "    axes = []\n",
    "    cum_size = np.zeros(ny)\n",
    "\n",
    "    data = np.array(data)\n",
    "\n",
    "    if reverse:\n",
    "        data = np.flip(data, axis=1)\n",
    "        category_labels = reversed(category_labels)\n",
    "\n",
    "    for i, row_data in enumerate(data):\n",
    "        axes.append(plt.bar(ind, row_data, bottom=cum_size, \n",
    "                            label=series_labels[i]))\n",
    "        cum_size += row_data\n",
    "\n",
    "    if category_labels:\n",
    "        plt.xticks(ind, category_labels)\n",
    "\n",
    "    if y_label:\n",
    "        plt.ylabel(y_label)\n",
    "\n",
    "    plt.legend()\n",
    "\n",
    "\n",
    "\n",
    "    if show_values:\n",
    "        for axis in axes:\n",
    "            for bar in axis:\n",
    "                w, h = bar.get_width(), bar.get_height()\n",
    "                plt.text(bar.get_x() + w/2, bar.get_y() + h/2, \n",
    "                         value_format.format(h), ha=\"center\", \n",
    "                         va=\"center\")"
   ]
  },
  {
   "cell_type": "code",
   "execution_count": 42,
   "metadata": {},
   "outputs": [],
   "source": [
    "attribute1 = \"What country do you live in?\"\n",
    "attribute2 = \"What is your yearly pay?\""
   ]
  },
  {
   "cell_type": "code",
   "execution_count": 43,
   "metadata": {},
   "outputs": [],
   "source": [
    "list1 = []\n",
    "list2 = []\n",
    "\n",
    "for i in data:\n",
    "    list1.extend(parseMultipleSelection(i[attribute1]))\n",
    "    list2.extend(parseMultipleSelection(i[attribute2]))"
   ]
  },
  {
   "cell_type": "code",
   "execution_count": 49,
   "metadata": {},
   "outputs": [
    {
     "name": "stdout",
     "output_type": "stream",
     "text": [
      "11\n",
      "11\n"
     ]
    }
   ],
   "source": [
    "category1 = [i[0] for i in Counter(list1).most_common(10)]\n",
    "category2 = [i[0] for i in Counter(list2).most_common(10)]\n",
    "category1.append(\"Others\")\n",
    "category2.append(\"Others\")\n",
    "print(len(category1))\n",
    "print(len(category2))"
   ]
  },
  {
   "cell_type": "code",
   "execution_count": 50,
   "metadata": {},
   "outputs": [],
   "source": [
    "plot_data = {}\n",
    "for c1 in category2:\n",
    "    plot_data[c1] = {}\n",
    "    for c2 in category1:\n",
    "        plot_data[c1][c2] = 0"
   ]
  },
  {
   "cell_type": "code",
   "execution_count": 51,
   "metadata": {},
   "outputs": [],
   "source": [
    "for i in data:\n",
    "    for j in parseMultipleSelection(i[attribute2]):\n",
    "        key1 = j\n",
    "        if key1 not in category2:\n",
    "            key1 = \"Others\"\n",
    "        for k in parseMultipleSelection(i[attribute1]):\n",
    "            key2 = k\n",
    "            if key2 not in category1:\n",
    "                key2 = \"Others\"\n",
    "            plot_data[key1][key2] += 1"
   ]
  },
  {
   "cell_type": "code",
   "execution_count": 52,
   "metadata": {},
   "outputs": [],
   "source": [
    "plot_arrays = []\n",
    "\n",
    "for i in category2:\n",
    "    d = []\n",
    "    for j in category1:\n",
    "        d.append(plot_data[i][j])\n",
    "    plot_arrays.append(d)"
   ]
  },
  {
   "cell_type": "code",
   "execution_count": 53,
   "metadata": {},
   "outputs": [
    {
     "data": {
      "image/png": "[encoded data removed]",
      "text/plain": [
       "<Figure size 1440x1080 with 1 Axes>"
      ]
     },
     "metadata": {
      "needs_background": "light"
     },
     "output_type": "display_data"
    }
   ],
   "source": [
    "plt.figure(figsize=(20, 15))\n",
    "\n",
    "series_labels = category2\n",
    "category_labels = category1\n",
    "stacked_bar(\n",
    "    plot_arrays, \n",
    "    series_labels, \n",
    "    category_labels=category_labels, \n",
    "    show_values=True, \n",
    "    value_format=\"{:}\",\n",
    "    y_label=\"Quantity (units)\"\n",
    ")\n",
    "\n",
    "plt.show()"
   ]
  },
  {
   "cell_type": "code",
   "execution_count": null,
   "metadata": {},
   "outputs": [],
   "source": []
  },
  {
   "cell_type": "code",
   "execution_count": null,
   "metadata": {},
   "outputs": [],
   "source": []
  },
  {
   "cell_type": "code",
   "execution_count": null,
   "metadata": {},
   "outputs": [],
   "source": []
  }
 ],
 "metadata": {
  "kernelspec": {
   "display_name": "Python 3",
   "language": "python",
   "name": "python3"
  },
  "language_info": {
   "codemirror_mode": {
    "name": "ipython",
    "version": 3
   },
   "file_extension": ".py",
   "mimetype": "text/x-python",
   "name": "python",
   "nbconvert_exporter": "python",
   "pygments_lexer": "ipython3",
   "version": "3.7.3"
  }
 },
 "nbformat": 4,
 "nbformat_minor": 2
}
